{
 "cells": [
  {
   "cell_type": "code",
   "execution_count": 8,
   "metadata": {},
   "outputs": [],
   "source": [
    "import PyPDF2\n",
    "import os\n",
    "import pytesseract\n",
    "from PIL import Image\n",
    "import pptx"
   ]
  },
  {
   "cell_type": "code",
   "execution_count": 9,
   "metadata": {},
   "outputs": [
    {
     "ename": "UnboundLocalError",
     "evalue": "cannot access local variable 'os' where it is not associated with a value",
     "output_type": "error",
     "traceback": [
      "\u001b[0;31m---------------------------------------------------------------------------\u001b[0m",
      "\u001b[0;31mUnboundLocalError\u001b[0m                         Traceback (most recent call last)",
      "Cell \u001b[0;32mIn[9], line 45\u001b[0m\n\u001b[1;32m     43\u001b[0m \u001b[38;5;66;03m# Example usage:\u001b[39;00m\n\u001b[1;32m     44\u001b[0m pptx_path \u001b[38;5;241m=\u001b[39m \u001b[38;5;124m'\u001b[39m\u001b[38;5;124mexample_pptxs/DeepLearning.pptx\u001b[39m\u001b[38;5;124m'\u001b[39m\n\u001b[0;32m---> 45\u001b[0m extracted_text \u001b[38;5;241m=\u001b[39m \u001b[43mpptx_to_text\u001b[49m\u001b[43m(\u001b[49m\u001b[43mpptx_path\u001b[49m\u001b[43m)\u001b[49m\n\u001b[1;32m     46\u001b[0m \u001b[38;5;28mprint\u001b[39m(extracted_text)\n\u001b[1;32m     49\u001b[0m \u001b[38;5;66;03m# Example usage:\u001b[39;00m\n\u001b[1;32m     50\u001b[0m \u001b[38;5;66;03m# pdf_path = 'example_pdfs/AlgorithmHW.pdf'\u001b[39;00m\n\u001b[1;32m     51\u001b[0m \u001b[38;5;66;03m# extracted_text = pdf_to_text(pdf_path)\u001b[39;00m\n\u001b[1;32m     52\u001b[0m \u001b[38;5;66;03m# print(extracted_text)\u001b[39;00m\n",
      "Cell \u001b[0;32mIn[9], line 12\u001b[0m, in \u001b[0;36mpptx_to_text\u001b[0;34m(pptx_path)\u001b[0m\n\u001b[1;32m     10\u001b[0m text \u001b[38;5;241m=\u001b[39m \u001b[38;5;124m\"\u001b[39m\u001b[38;5;124m\"\u001b[39m\n\u001b[1;32m     11\u001b[0m presentation \u001b[38;5;241m=\u001b[39m pptx\u001b[38;5;241m.\u001b[39mPresentation(pptx_path)\n\u001b[0;32m---> 12\u001b[0m \u001b[43mos\u001b[49m\u001b[38;5;241m.\u001b[39mmakedirs(\u001b[38;5;124m\"\u001b[39m\u001b[38;5;124mtemp\u001b[39m\u001b[38;5;124m\"\u001b[39m, exist_ok\u001b[38;5;241m=\u001b[39m\u001b[38;5;28;01mTrue\u001b[39;00m)\n\u001b[1;32m     13\u001b[0m \u001b[38;5;28;01mfor\u001b[39;00m slide \u001b[38;5;129;01min\u001b[39;00m presentation\u001b[38;5;241m.\u001b[39mslides:\n\u001b[1;32m     14\u001b[0m     \u001b[38;5;28;01mfor\u001b[39;00m shape \u001b[38;5;129;01min\u001b[39;00m slide\u001b[38;5;241m.\u001b[39mshapes:\n\u001b[1;32m     15\u001b[0m         \u001b[38;5;66;03m# Extract text\u001b[39;00m\n",
      "\u001b[0;31mUnboundLocalError\u001b[0m: cannot access local variable 'os' where it is not associated with a value"
     ]
    }
   ],
   "source": [
    "def pdf_to_text(pdf_path):\n",
    "    text = \"\"\n",
    "    with open(pdf_path, 'rb') as file:\n",
    "        pdf_reader = PyPDF2.PdfReader(file)\n",
    "        for page in pdf_reader.pages:\n",
    "            text += page.extract_text()\n",
    "    return text\n",
    "\n",
    "def pptx_to_text(pptx_path):\n",
    "    text = \"\"\n",
    "    presentation = pptx.Presentation(pptx_path)\n",
    "    import os\n",
    "    os.makedirs(\"temp\", exist_ok=True)\n",
    "    for slide in presentation.slides:\n",
    "        for shape in slide.shapes:\n",
    "            # Extract text\n",
    "            if hasattr(shape, 'text'):\n",
    "                text += shape.text + \"\\n\"\n",
    "            # Extract image\n",
    "            if shape.shape_type == pptx.enum.shapes.MSO_SHAPE_TYPE.PICTURE:\n",
    "                image = shape.image\n",
    "                # Save the image temporarily\n",
    "                image_path = f\"temp/temp_image_{slide.slide_id}_{shape.shape_id}.png\"\n",
    "                with open(image_path, \"wb\") as img_file:\n",
    "                    img_file.write(image.blob)\n",
    "                \n",
    "                # Use pytesseract for OCR (make sure it's installed: pip install pytesseract)\n",
    "                try:\n",
    "                    \n",
    "                    # Perform OCR on the image\n",
    "                    img = Image.open(image_path)\n",
    "                    img_text = pytesseract.image_to_string(img)\n",
    "                    text += img_text + \"\\n\"\n",
    "                    \n",
    "                    # Clean up the temporary image file\n",
    "                    import os\n",
    "                    os.remove(image_path)\n",
    "                except ImportError:\n",
    "                    text += \"[Image: OCR not available]\\n\"\n",
    "                except Exception as e:\n",
    "                    text += f\"[Image: OCR failed - {str(e)}]\\n\"\n",
    "    return text.strip()\n",
    "\n",
    "# Example usage:\n",
    "pptx_path = 'example_pptxs/DeepLearning.pptx'\n",
    "extracted_text = pptx_to_text(pptx_path)\n",
    "print(extracted_text)\n",
    "\n",
    "\n",
    "# Example usage:\n",
    "# pdf_path = 'example_pdfs/AlgorithmHW.pdf'\n",
    "# extracted_text = pdf_to_text(pdf_path)\n",
    "# print(extracted_text)\n"
   ]
  }
 ],
 "metadata": {
  "kernelspec": {
   "display_name": "QuestionGenerator",
   "language": "python",
   "name": "python3"
  },
  "language_info": {
   "codemirror_mode": {
    "name": "ipython",
    "version": 3
   },
   "file_extension": ".py",
   "mimetype": "text/x-python",
   "name": "python",
   "nbconvert_exporter": "python",
   "pygments_lexer": "ipython3",
   "version": "3.12.5"
  }
 },
 "nbformat": 4,
 "nbformat_minor": 2
}
